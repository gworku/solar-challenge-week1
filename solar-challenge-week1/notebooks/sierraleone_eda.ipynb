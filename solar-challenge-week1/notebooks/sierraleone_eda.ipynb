{
 "cells": [
  {
   "cell_type": "markdown",
   "id": "0dc4ced5-bd87-458d-ab0a-8d257eedf12b",
   "metadata": {},
   "source": [
    "# Import Dependencies "
   ]
  },
  {
   "cell_type": "code",
   "execution_count": 11,
   "id": "2b6f8677-2c7d-4373-8bd4-bad4528d87f9",
   "metadata": {},
   "outputs": [],
   "source": [
    "import pandas as pd\n",
    "import numpy as np\n",
    "import seaborn as sns\n",
    "import matplotlib.pyplot as plt\n",
    "from scipy import stats\n",
    "import plotly.express as px\n",
    "import plotly.graph_objects as go"
   ]
  },
  {
   "cell_type": "code",
   "execution_count": null,
   "id": "11931b69",
   "metadata": {},
   "outputs": [
    {
     "name": "stdout",
     "output_type": "stream",
     "text": [
      "Error loading benin data: [Errno 2] No such file or directory: 'src/benin-malanville.csv'\n",
      "Error loading sierra_leone data: [Errno 2] No such file or directory: 'src/sierraleone-bumbuna.csv'\n",
      "Error loading togo data: [Errno 2] No such file or directory: 'src/togo-dapaong_qc.csv'\n"
     ]
    }
   ],
   "source": [
    "import os\n",
    "import pandas as pd\n",
    "import numpy as np\n",
    "\n",
    "# Create directory structure if it doesn't exist\n",
    "os.makedirs('data/clean', exist_ok=True)\n",
    "os.makedirs('notebooks', exist_ok=True)\n",
    "\n",
    "# Load all three datasets from src folder\n",
    "def load_country_data():\n",
    "    data_files = {\n",
    "        'benin': 'src/benin-malanville.csv',\n",
    "        'sierra_leone': 'src/sierraleone-bumbuna.csv',\n",
    "        'togo': 'src/togo-dapaong_qc.csv'\n",
    "    }\n",
    "    \n",
    "    dfs = {}\n",
    "    for country, file_path in data_files.items():\n",
    "        try:\n",
    "            dfs[country] = pd.read_csv(file_path, parse_dates=['Timestamp'])\n",
    "            print(f\"Successfully loaded {country} data with shape {dfs[country].shape}\")\n",
    "        except Exception as e:\n",
    "            print(f\"Error loading {country} data: {str(e)}\")\n",
    "    \n",
    "    return dfs\n",
    "\n",
    "country_dfs = load_country_data()"
   ]
  },
  {
   "cell_type": "code",
   "execution_count": null,
   "id": "ab13405c-386a-4e94-8f43-c596344cc583",
   "metadata": {},
   "outputs": [],
   "source": []
  }
 ],
 "metadata": {
  "kernelspec": {
   "display_name": "venv",
   "language": "python",
   "name": "python3"
  },
  "language_info": {
   "codemirror_mode": {
    "name": "ipython",
    "version": 3
   },
   "file_extension": ".py",
   "mimetype": "text/x-python",
   "name": "python",
   "nbconvert_exporter": "python",
   "pygments_lexer": "ipython3",
   "version": "3.13.3"
  }
 },
 "nbformat": 4,
 "nbformat_minor": 5
}
